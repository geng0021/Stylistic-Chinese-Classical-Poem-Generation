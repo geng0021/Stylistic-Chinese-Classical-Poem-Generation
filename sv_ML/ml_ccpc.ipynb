{
 "cells": [
  {
   "attachments": {},
   "cell_type": "markdown",
   "metadata": {},
   "source": [
    "### import all packages"
   ]
  },
  {
   "cell_type": "code",
   "execution_count": 1,
   "metadata": {},
   "outputs": [],
   "source": [
    "import pandas as pd\n",
    "import os\n",
    "import pandas as pd\n",
    "import numpy as np\n",
    "from scipy.stats import randint\n",
    "## used for plot interactive graph.\n",
    "import matplotlib.pyplot as plt\n",
    "#import seaborn as sns\n",
    "from io import StringIO\n",
    "from sklearn.feature_extraction.text import TfidfVectorizer\n",
    "from sklearn.feature_selection import chi2\n",
    "from IPython.display import display\n",
    "from sklearn.model_selection import train_test_split\n",
    "from sklearn.feature_extraction.text import TfidfTransformer\n",
    "from sklearn.naive_bayes import MultinomialNB\n",
    "from sklearn.linear_model import LogisticRegression\n",
    "from sklearn.ensemble import RandomForestClassifier\n",
    "from sklearn.svm import LinearSVC\n",
    "from sklearn.model_selection import cross_val_score\n",
    "from sklearn.metrics import confusion_matrix\n",
    "from sklearn import metrics\n",
    "#"
   ]
  },
  {
   "attachments": {},
   "cell_type": "markdown",
   "metadata": {},
   "source": [
    "## Data Preparation\n",
    "### - import train, test, valid data\n"
   ]
  },
  {
   "cell_type": "code",
   "execution_count": 2,
   "metadata": {},
   "outputs": [
    {
     "data": {
      "text/html": [
       "<div>\n",
       "<style scoped>\n",
       "    .dataframe tbody tr th:only-of-type {\n",
       "        vertical-align: middle;\n",
       "    }\n",
       "\n",
       "    .dataframe tbody tr th {\n",
       "        vertical-align: top;\n",
       "    }\n",
       "\n",
       "    .dataframe thead th {\n",
       "        text-align: right;\n",
       "    }\n",
       "</style>\n",
       "<table border=\"1\" class=\"dataframe\">\n",
       "  <thead>\n",
       "    <tr style=\"text-align: right;\">\n",
       "      <th></th>\n",
       "      <th>dynasty</th>\n",
       "      <th>author</th>\n",
       "      <th>content</th>\n",
       "      <th>title</th>\n",
       "      <th>keywords</th>\n",
       "    </tr>\n",
       "  </thead>\n",
       "  <tbody>\n",
       "    <tr>\n",
       "      <th>0</th>\n",
       "      <td>Ming</td>\n",
       "      <td>翁万达</td>\n",
       "      <td>崖悬百尺古|面削一屏开|晴日流丹草|春风长绿苔</td>\n",
       "      <td>锦屏岩</td>\n",
       "      <td>屏开 晴日 春风 绿苔</td>\n",
       "    </tr>\n",
       "    <tr>\n",
       "      <th>1</th>\n",
       "      <td>Ming</td>\n",
       "      <td>童冀</td>\n",
       "      <td>每忆宋夫子|终年坐北轩|著书良自苦|得意好忘言</td>\n",
       "      <td>次胡仲申先生斋居述怀韵十首兼简宋景濂先生 其八</td>\n",
       "      <td>著书 终年 好 忘言</td>\n",
       "    </tr>\n",
       "    <tr>\n",
       "      <th>2</th>\n",
       "      <td>Ming</td>\n",
       "      <td>管讷</td>\n",
       "      <td>劝酒重持杯|杯深喜不辞|愿将今日意|同保百年期</td>\n",
       "      <td>初度日复呈兄勉翁三首 其二</td>\n",
       "      <td>劝酒 杯深 持杯 愿将</td>\n",
       "    </tr>\n",
       "    <tr>\n",
       "      <th>3</th>\n",
       "      <td>Song</td>\n",
       "      <td>汪应辰</td>\n",
       "      <td>仁心均动植|风化正邦家|福庆方骈集|灵符尚辟邪</td>\n",
       "      <td>太上皇后合端午帖子词 其二</td>\n",
       "      <td>均 风化 灵符 邦家</td>\n",
       "    </tr>\n",
       "    <tr>\n",
       "      <th>4</th>\n",
       "      <td>Song</td>\n",
       "      <td>蒲寿宬</td>\n",
       "      <td>骤来惊辟易|久视益虚无|咫尺星堪摘|波摇又走珠</td>\n",
       "      <td>心泉二首 其二</td>\n",
       "      <td>波摇 星 辟易 咫尺</td>\n",
       "    </tr>\n",
       "  </tbody>\n",
       "</table>\n",
       "</div>"
      ],
      "text/plain": [
       "  dynasty author                  content                    title  \\\n",
       "0    Ming    翁万达  崖悬百尺古|面削一屏开|晴日流丹草|春风长绿苔                      锦屏岩   \n",
       "1    Ming     童冀  每忆宋夫子|终年坐北轩|著书良自苦|得意好忘言  次胡仲申先生斋居述怀韵十首兼简宋景濂先生 其八   \n",
       "2    Ming     管讷  劝酒重持杯|杯深喜不辞|愿将今日意|同保百年期            初度日复呈兄勉翁三首 其二   \n",
       "3    Song    汪应辰  仁心均动植|风化正邦家|福庆方骈集|灵符尚辟邪            太上皇后合端午帖子词 其二   \n",
       "4    Song    蒲寿宬  骤来惊辟易|久视益虚无|咫尺星堪摘|波摇又走珠                  心泉二首 其二   \n",
       "\n",
       "      keywords  \n",
       "0  屏开 晴日 春风 绿苔  \n",
       "1   著书 终年 好 忘言  \n",
       "2  劝酒 杯深 持杯 愿将  \n",
       "3   均 风化 灵符 邦家  \n",
       "4   波摇 星 辟易 咫尺  "
      ]
     },
     "execution_count": 2,
     "metadata": {},
     "output_type": "execute_result"
    }
   ],
   "source": [
    "train = pd.read_json ('/media/ntu/volume1/home/s122md303_03/Datasets/CCPC/ccpc_train_v1.0.json', lines=True)\n",
    "train.head()"
   ]
  },
  {
   "cell_type": "code",
   "execution_count": 3,
   "metadata": {},
   "outputs": [
    {
     "data": {
      "text/html": [
       "<div>\n",
       "<style scoped>\n",
       "    .dataframe tbody tr th:only-of-type {\n",
       "        vertical-align: middle;\n",
       "    }\n",
       "\n",
       "    .dataframe tbody tr th {\n",
       "        vertical-align: top;\n",
       "    }\n",
       "\n",
       "    .dataframe thead th {\n",
       "        text-align: right;\n",
       "    }\n",
       "</style>\n",
       "<table border=\"1\" class=\"dataframe\">\n",
       "  <thead>\n",
       "    <tr style=\"text-align: right;\">\n",
       "      <th></th>\n",
       "      <th>dynasty</th>\n",
       "      <th>author</th>\n",
       "      <th>content</th>\n",
       "      <th>title</th>\n",
       "      <th>keywords</th>\n",
       "    </tr>\n",
       "  </thead>\n",
       "  <tbody>\n",
       "    <tr>\n",
       "      <th>0</th>\n",
       "      <td>Song</td>\n",
       "      <td>赵戣</td>\n",
       "      <td>猛上临光殿|生擒归命侯|师心无学术|与子失贻谋</td>\n",
       "      <td>咏史二十二首 其十六 隋文帝</td>\n",
       "      <td>贻谋 学术 侯 失</td>\n",
       "    </tr>\n",
       "    <tr>\n",
       "      <th>1</th>\n",
       "      <td>Song</td>\n",
       "      <td>张栻</td>\n",
       "      <td>送子目力短|朔风吹我裾|心焉独如结|子也当念予</td>\n",
       "      <td>别离情所钟十二章章四句送定叟弟之官严陵 其十二</td>\n",
       "      <td>短 吹我 朔风 送子</td>\n",
       "    </tr>\n",
       "    <tr>\n",
       "      <th>2</th>\n",
       "      <td>Ming</td>\n",
       "      <td>何景明</td>\n",
       "      <td>泽国登楼处|江船见月时|回书寄来使|多是客中诗</td>\n",
       "      <td>席上分得时字送豫斋二首 其一</td>\n",
       "      <td>见月 客中 泽国 登楼</td>\n",
       "    </tr>\n",
       "    <tr>\n",
       "      <th>3</th>\n",
       "      <td>Yuan</td>\n",
       "      <td>范梈</td>\n",
       "      <td>芙蓉生石壁|云锦映青松|那忆南州路|归船处处逢</td>\n",
       "      <td>芙蓉</td>\n",
       "      <td>云锦 南州 青松 芙蓉</td>\n",
       "    </tr>\n",
       "    <tr>\n",
       "      <th>4</th>\n",
       "      <td>Ming</td>\n",
       "      <td>区大相</td>\n",
       "      <td>叱起群龙驭|天鸡闻远空|东溟一杯水|洗出金轮红</td>\n",
       "      <td>羊城八景 其八 扶桑浴日</td>\n",
       "      <td>远空 东溟 金轮 洗出</td>\n",
       "    </tr>\n",
       "  </tbody>\n",
       "</table>\n",
       "</div>"
      ],
      "text/plain": [
       "  dynasty author                  content                    title  \\\n",
       "0    Song     赵戣  猛上临光殿|生擒归命侯|师心无学术|与子失贻谋           咏史二十二首 其十六 隋文帝   \n",
       "1    Song     张栻  送子目力短|朔风吹我裾|心焉独如结|子也当念予  别离情所钟十二章章四句送定叟弟之官严陵 其十二   \n",
       "2    Ming    何景明  泽国登楼处|江船见月时|回书寄来使|多是客中诗           席上分得时字送豫斋二首 其一   \n",
       "3    Yuan     范梈  芙蓉生石壁|云锦映青松|那忆南州路|归船处处逢                       芙蓉   \n",
       "4    Ming    区大相  叱起群龙驭|天鸡闻远空|东溟一杯水|洗出金轮红             羊城八景 其八 扶桑浴日   \n",
       "\n",
       "      keywords  \n",
       "0    贻谋 学术 侯 失  \n",
       "1   短 吹我 朔风 送子  \n",
       "2  见月 客中 泽国 登楼  \n",
       "3  云锦 南州 青松 芙蓉  \n",
       "4  远空 东溟 金轮 洗出  "
      ]
     },
     "execution_count": 3,
     "metadata": {},
     "output_type": "execute_result"
    }
   ],
   "source": [
    "test = pd.read_json ('/media/ntu/volume1/home/s122md303_03/Datasets/CCPC/ccpc_test_v1.0.json', lines=True)\n",
    "test.head()"
   ]
  },
  {
   "cell_type": "code",
   "execution_count": 4,
   "metadata": {},
   "outputs": [
    {
     "data": {
      "text/html": [
       "<div>\n",
       "<style scoped>\n",
       "    .dataframe tbody tr th:only-of-type {\n",
       "        vertical-align: middle;\n",
       "    }\n",
       "\n",
       "    .dataframe tbody tr th {\n",
       "        vertical-align: top;\n",
       "    }\n",
       "\n",
       "    .dataframe thead th {\n",
       "        text-align: right;\n",
       "    }\n",
       "</style>\n",
       "<table border=\"1\" class=\"dataframe\">\n",
       "  <thead>\n",
       "    <tr style=\"text-align: right;\">\n",
       "      <th></th>\n",
       "      <th>dynasty</th>\n",
       "      <th>author</th>\n",
       "      <th>content</th>\n",
       "      <th>title</th>\n",
       "      <th>keywords</th>\n",
       "    </tr>\n",
       "  </thead>\n",
       "  <tbody>\n",
       "    <tr>\n",
       "      <th>0</th>\n",
       "      <td>Song</td>\n",
       "      <td>苏辙</td>\n",
       "      <td>林高日气薄|竹色净如水|寂历断人声|时有鸣禽起</td>\n",
       "      <td>和文与可洋州园亭三十咏 其十四 霜筠亭</td>\n",
       "      <td>竹色 人声 寂历 鸣禽</td>\n",
       "    </tr>\n",
       "    <tr>\n",
       "      <th>1</th>\n",
       "      <td>Song</td>\n",
       "      <td>许应龙</td>\n",
       "      <td>清净无他好|歌风舞舜琴|阜财并解愠|总是爱民心</td>\n",
       "      <td>皇帝合端午帖子 其三</td>\n",
       "      <td>解愠 民心 爱 清净</td>\n",
       "    </tr>\n",
       "    <tr>\n",
       "      <th>2</th>\n",
       "      <td>Ming</td>\n",
       "      <td>梁养正</td>\n",
       "      <td>雨过山色增|有如濯青泚|仙心足比洁|俗尘为我洗</td>\n",
       "      <td>题县八景 其五 贞山两霁</td>\n",
       "      <td>俗尘 洗 雨过 山色</td>\n",
       "    </tr>\n",
       "    <tr>\n",
       "      <th>3</th>\n",
       "      <td>Song</td>\n",
       "      <td>郑国辅</td>\n",
       "      <td>满耳环佩声|云根线寒玉|雨过勿雷吼|老龙鼾正熟</td>\n",
       "      <td>云根石 其二</td>\n",
       "      <td>云根 环佩 雨过 寒玉</td>\n",
       "    </tr>\n",
       "    <tr>\n",
       "      <th>4</th>\n",
       "      <td>Ming</td>\n",
       "      <td>胡应麟</td>\n",
       "      <td>左淬莫耶锋|右淬干将锷|宇宙两神龙|延津当昼跃</td>\n",
       "      <td>再送左辖吴公十绝句 其八</td>\n",
       "      <td>神龙 宇宙 延津 干将</td>\n",
       "    </tr>\n",
       "  </tbody>\n",
       "</table>\n",
       "</div>"
      ],
      "text/plain": [
       "  dynasty author                  content                title     keywords\n",
       "0    Song     苏辙  林高日气薄|竹色净如水|寂历断人声|时有鸣禽起  和文与可洋州园亭三十咏 其十四 霜筠亭  竹色 人声 寂历 鸣禽\n",
       "1    Song    许应龙  清净无他好|歌风舞舜琴|阜财并解愠|总是爱民心           皇帝合端午帖子 其三   解愠 民心 爱 清净\n",
       "2    Ming    梁养正  雨过山色增|有如濯青泚|仙心足比洁|俗尘为我洗         题县八景 其五 贞山两霁   俗尘 洗 雨过 山色\n",
       "3    Song    郑国辅  满耳环佩声|云根线寒玉|雨过勿雷吼|老龙鼾正熟               云根石 其二  云根 环佩 雨过 寒玉\n",
       "4    Ming    胡应麟  左淬莫耶锋|右淬干将锷|宇宙两神龙|延津当昼跃         再送左辖吴公十绝句 其八  神龙 宇宙 延津 干将"
      ]
     },
     "execution_count": 4,
     "metadata": {},
     "output_type": "execute_result"
    }
   ],
   "source": [
    "valid = pd.read_json ('/media/ntu/volume1/home/s122md303_03/Datasets/CCPC/ccpc_valid_v1.0.json', lines=True)\n",
    "valid.head()"
   ]
  },
  {
   "attachments": {},
   "cell_type": "markdown",
   "metadata": {},
   "source": [
    "### - understand the data ration"
   ]
  },
  {
   "cell_type": "code",
   "execution_count": 11,
   "metadata": {},
   "outputs": [
    {
     "name": "stdout",
     "output_type": "stream",
     "text": [
      "127682\n",
      "9976\n",
      "7979\n"
     ]
    }
   ],
   "source": [
    "print(len(train))\n",
    "print(len(test))\n",
    "print(len(valid))"
   ]
  },
  {
   "attachments": {},
   "cell_type": "markdown",
   "metadata": {},
   "source": [
    "### - Concatenate train, test, valid data together"
   ]
  },
  {
   "cell_type": "code",
   "execution_count": 12,
   "metadata": {},
   "outputs": [],
   "source": [
    "train = pd.concat([train, test, valid])"
   ]
  },
  {
   "cell_type": "code",
   "execution_count": 13,
   "metadata": {},
   "outputs": [
    {
     "name": "stdout",
     "output_type": "stream",
     "text": [
      "145637\n"
     ]
    }
   ],
   "source": [
    "print(len(train))"
   ]
  },
  {
   "cell_type": "code",
   "execution_count": 14,
   "metadata": {},
   "outputs": [
    {
     "data": {
      "text/plain": [
       "Song      66540\n",
       "Ming      55952\n",
       "Tang      10596\n",
       "Yuan      10477\n",
       "Jin        1718\n",
       "tang        191\n",
       "Sui          99\n",
       "song         41\n",
       "ming          6\n",
       "qing          6\n",
       "NanBei        4\n",
       "Liao          4\n",
       "yuan          3\n",
       "Name: dynasty, dtype: int64"
      ]
     },
     "execution_count": 14,
     "metadata": {},
     "output_type": "execute_result"
    }
   ],
   "source": [
    "train['dynasty'].value_counts()"
   ]
  },
  {
   "attachments": {},
   "cell_type": "markdown",
   "metadata": {},
   "source": [
    "### - Define key characters for each class"
   ]
  },
  {
   "cell_type": "code",
   "execution_count": 15,
   "metadata": {},
   "outputs": [],
   "source": [
    "#haofang : 1; wanyue : 2; shanshui :3; others: 0\n",
    "haofang = ['苏轼','辛弃疾','张元干','张孝祥','岳飞','王安石','苏辙','陈与义','陆游','李纲','叶梦得',\n",
    "           '陈亮','刘克庄','黄机','戴复古']\n",
    "wanyue = ['柳永','晏殊','周邦彦','李清照','张先','晏几道','欧阳修','秦观','贺铸','温庭筠','李煜','韦庄','冯延巳']\n",
    "shanshui = ['王维','孟浩然','卢纶','李益','陶渊明','王维','储光羲','裴迪','丘为','常建','杨万里','范成大']"
   ]
  },
  {
   "attachments": {},
   "cell_type": "markdown",
   "metadata": {},
   "source": [
    "### - add labels for each poem with class"
   ]
  },
  {
   "cell_type": "code",
   "execution_count": 16,
   "metadata": {},
   "outputs": [],
   "source": [
    "train['cate']=['']*train.shape[0]\n",
    "for i, row in train.iterrows():\n",
    "    author = row['author']\n",
    "    if author in haofang:\n",
    "        classno = \"豪放\"\n",
    "    elif author in wanyue:\n",
    "        classno = '婉约'\n",
    "    elif author in shanshui:\n",
    "        classno = '山水'\n",
    "    else:\n",
    "        classno = 'To be predicted'\n",
    "    train.loc[i,'cate'] = classno"
   ]
  },
  {
   "attachments": {},
   "cell_type": "markdown",
   "metadata": {},
   "source": [
    "### - calculate the number of poem labeled for each class"
   ]
  },
  {
   "cell_type": "code",
   "execution_count": 17,
   "metadata": {},
   "outputs": [
    {
     "data": {
      "text/plain": [
       "To be predicted    135833\n",
       "豪放                   6059\n",
       "山水                   3070\n",
       "婉约                    675\n",
       "Name: cate, dtype: int64"
      ]
     },
     "execution_count": 17,
     "metadata": {},
     "output_type": "execute_result"
    }
   ],
   "source": [
    "train['cate'].value_counts()\n"
   ]
  },
  {
   "attachments": {},
   "cell_type": "markdown",
   "metadata": {},
   "source": [
    "### - separate data into data with label and data without label"
   ]
  },
  {
   "cell_type": "code",
   "execution_count": 18,
   "metadata": {},
   "outputs": [],
   "source": [
    "df_noclass = train.loc[train['cate'] == 'To be predicted']\n",
    "l=['豪放','婉约','山水']\n",
    "df_withclass = train.loc[train['cate'].isin(l)]"
   ]
  },
  {
   "cell_type": "code",
   "execution_count": 19,
   "metadata": {},
   "outputs": [
    {
     "data": {
      "text/html": [
       "<div>\n",
       "<style scoped>\n",
       "    .dataframe tbody tr th:only-of-type {\n",
       "        vertical-align: middle;\n",
       "    }\n",
       "\n",
       "    .dataframe tbody tr th {\n",
       "        vertical-align: top;\n",
       "    }\n",
       "\n",
       "    .dataframe thead th {\n",
       "        text-align: right;\n",
       "    }\n",
       "</style>\n",
       "<table border=\"1\" class=\"dataframe\">\n",
       "  <thead>\n",
       "    <tr style=\"text-align: right;\">\n",
       "      <th></th>\n",
       "      <th>dynasty</th>\n",
       "      <th>author</th>\n",
       "      <th>content</th>\n",
       "      <th>title</th>\n",
       "      <th>keywords</th>\n",
       "      <th>cate</th>\n",
       "    </tr>\n",
       "  </thead>\n",
       "  <tbody>\n",
       "    <tr>\n",
       "      <th>1</th>\n",
       "      <td>Ming</td>\n",
       "      <td>童冀</td>\n",
       "      <td>每忆宋夫子|终年坐北轩|著书良自苦|得意好忘言</td>\n",
       "      <td>次胡仲申先生斋居述怀韵十首兼简宋景濂先生 其八</td>\n",
       "      <td>著书 终年 好 忘言</td>\n",
       "      <td>To be predicted</td>\n",
       "    </tr>\n",
       "    <tr>\n",
       "      <th>2</th>\n",
       "      <td>Ming</td>\n",
       "      <td>管讷</td>\n",
       "      <td>劝酒重持杯|杯深喜不辞|愿将今日意|同保百年期</td>\n",
       "      <td>初度日复呈兄勉翁三首 其二</td>\n",
       "      <td>劝酒 杯深 持杯 愿将</td>\n",
       "      <td>To be predicted</td>\n",
       "    </tr>\n",
       "    <tr>\n",
       "      <th>3</th>\n",
       "      <td>Song</td>\n",
       "      <td>汪应辰</td>\n",
       "      <td>仁心均动植|风化正邦家|福庆方骈集|灵符尚辟邪</td>\n",
       "      <td>太上皇后合端午帖子词 其二</td>\n",
       "      <td>均 风化 灵符 邦家</td>\n",
       "      <td>To be predicted</td>\n",
       "    </tr>\n",
       "    <tr>\n",
       "      <th>4</th>\n",
       "      <td>Song</td>\n",
       "      <td>蒲寿宬</td>\n",
       "      <td>骤来惊辟易|久视益虚无|咫尺星堪摘|波摇又走珠</td>\n",
       "      <td>心泉二首 其二</td>\n",
       "      <td>波摇 星 辟易 咫尺</td>\n",
       "      <td>To be predicted</td>\n",
       "    </tr>\n",
       "    <tr>\n",
       "      <th>5</th>\n",
       "      <td>Song</td>\n",
       "      <td>袁说友</td>\n",
       "      <td>红妆夸睡足|粉额趁颜开|惟有江梅样|蛾眉淡拂来</td>\n",
       "      <td>用杨诚斋韵再题欧阳长老墨梅 其一</td>\n",
       "      <td>红妆 江梅 蛾眉 睡足</td>\n",
       "      <td>To be predicted</td>\n",
       "    </tr>\n",
       "  </tbody>\n",
       "</table>\n",
       "</div>"
      ],
      "text/plain": [
       "  dynasty author                  content                    title  \\\n",
       "1    Ming     童冀  每忆宋夫子|终年坐北轩|著书良自苦|得意好忘言  次胡仲申先生斋居述怀韵十首兼简宋景濂先生 其八   \n",
       "2    Ming     管讷  劝酒重持杯|杯深喜不辞|愿将今日意|同保百年期            初度日复呈兄勉翁三首 其二   \n",
       "3    Song    汪应辰  仁心均动植|风化正邦家|福庆方骈集|灵符尚辟邪            太上皇后合端午帖子词 其二   \n",
       "4    Song    蒲寿宬  骤来惊辟易|久视益虚无|咫尺星堪摘|波摇又走珠                  心泉二首 其二   \n",
       "5    Song    袁说友  红妆夸睡足|粉额趁颜开|惟有江梅样|蛾眉淡拂来         用杨诚斋韵再题欧阳长老墨梅 其一   \n",
       "\n",
       "      keywords             cate  \n",
       "1   著书 终年 好 忘言  To be predicted  \n",
       "2  劝酒 杯深 持杯 愿将  To be predicted  \n",
       "3   均 风化 灵符 邦家  To be predicted  \n",
       "4   波摇 星 辟易 咫尺  To be predicted  \n",
       "5  红妆 江梅 蛾眉 睡足  To be predicted  "
      ]
     },
     "execution_count": 19,
     "metadata": {},
     "output_type": "execute_result"
    }
   ],
   "source": [
    "df_noclass.head()"
   ]
  },
  {
   "attachments": {},
   "cell_type": "markdown",
   "metadata": {},
   "source": [
    "### -  add category_id for data with labels"
   ]
  },
  {
   "cell_type": "code",
   "execution_count": 20,
   "metadata": {},
   "outputs": [
    {
     "name": "stderr",
     "output_type": "stream",
     "text": [
      "/tmp/ipykernel_1892932/3497348243.py:1: SettingWithCopyWarning: \n",
      "A value is trying to be set on a copy of a slice from a DataFrame.\n",
      "Try using .loc[row_indexer,col_indexer] = value instead\n",
      "\n",
      "See the caveats in the documentation: https://pandas.pydata.org/pandas-docs/stable/user_guide/indexing.html#returning-a-view-versus-a-copy\n",
      "  df_withclass['category_id'] = df_withclass['cate'].factorize()[0]\n"
     ]
    }
   ],
   "source": [
    "df_withclass['category_id'] = df_withclass['cate'].factorize()[0]\n",
    "category_id_df = df_withclass[['cate', 'category_id']].drop_duplicates()"
   ]
  },
  {
   "cell_type": "code",
   "execution_count": 21,
   "metadata": {},
   "outputs": [
    {
     "data": {
      "text/html": [
       "<div>\n",
       "<style scoped>\n",
       "    .dataframe tbody tr th:only-of-type {\n",
       "        vertical-align: middle;\n",
       "    }\n",
       "\n",
       "    .dataframe tbody tr th {\n",
       "        vertical-align: top;\n",
       "    }\n",
       "\n",
       "    .dataframe thead th {\n",
       "        text-align: right;\n",
       "    }\n",
       "</style>\n",
       "<table border=\"1\" class=\"dataframe\">\n",
       "  <thead>\n",
       "    <tr style=\"text-align: right;\">\n",
       "      <th></th>\n",
       "      <th>dynasty</th>\n",
       "      <th>author</th>\n",
       "      <th>content</th>\n",
       "      <th>title</th>\n",
       "      <th>keywords</th>\n",
       "      <th>cate</th>\n",
       "      <th>category_id</th>\n",
       "    </tr>\n",
       "  </thead>\n",
       "  <tbody>\n",
       "    <tr>\n",
       "      <th>0</th>\n",
       "      <td>Ming</td>\n",
       "      <td>翁万达</td>\n",
       "      <td>崖悬百尺古|面削一屏开|晴日流丹草|春风长绿苔</td>\n",
       "      <td>锦屏岩</td>\n",
       "      <td>屏开 晴日 春风 绿苔</td>\n",
       "      <td>豪放</td>\n",
       "      <td>0</td>\n",
       "    </tr>\n",
       "    <tr>\n",
       "      <th>32</th>\n",
       "      <td>Ming</td>\n",
       "      <td>徐熥</td>\n",
       "      <td>夜月乌衣巷|秋风燕子矶|山川仍似昔|只是旧人非</td>\n",
       "      <td>芋江驿楼口占送王元直重游金陵 其二</td>\n",
       "      <td>秋风 山川 夜月 燕子</td>\n",
       "      <td>豪放</td>\n",
       "      <td>0</td>\n",
       "    </tr>\n",
       "    <tr>\n",
       "      <th>48</th>\n",
       "      <td>Ming</td>\n",
       "      <td>黄淮</td>\n",
       "      <td>见雁忆故乡|闻蛩思织妇|笑语是谁家|声逐微风度</td>\n",
       "      <td>四时词 其三</td>\n",
       "      <td>风度 笑语 谁家 微</td>\n",
       "      <td>山水</td>\n",
       "      <td>1</td>\n",
       "    </tr>\n",
       "    <tr>\n",
       "      <th>65</th>\n",
       "      <td>Song</td>\n",
       "      <td>刘克庄</td>\n",
       "      <td>曼卿仙不死|隐隐素骡嘶|走入芙蓉里|花心路忽迷</td>\n",
       "      <td>记小圃花果二十首 其十三 芙蓉</td>\n",
       "      <td>花心 仙 隐隐 芙蓉</td>\n",
       "      <td>豪放</td>\n",
       "      <td>0</td>\n",
       "    </tr>\n",
       "    <tr>\n",
       "      <th>93</th>\n",
       "      <td>Yuan</td>\n",
       "      <td>李孝光</td>\n",
       "      <td>采莲复采莲|莲生隔江水|不愁无舟楫|但愁波浪起</td>\n",
       "      <td>采莲曲二首为 鲁子翚作 其一</td>\n",
       "      <td>江水 波浪 舟楫 采莲</td>\n",
       "      <td>豪放</td>\n",
       "      <td>0</td>\n",
       "    </tr>\n",
       "  </tbody>\n",
       "</table>\n",
       "</div>"
      ],
      "text/plain": [
       "   dynasty author                  content              title     keywords  \\\n",
       "0     Ming    翁万达  崖悬百尺古|面削一屏开|晴日流丹草|春风长绿苔                锦屏岩  屏开 晴日 春风 绿苔   \n",
       "32    Ming     徐熥  夜月乌衣巷|秋风燕子矶|山川仍似昔|只是旧人非  芋江驿楼口占送王元直重游金陵 其二  秋风 山川 夜月 燕子   \n",
       "48    Ming     黄淮  见雁忆故乡|闻蛩思织妇|笑语是谁家|声逐微风度             四时词 其三   风度 笑语 谁家 微   \n",
       "65    Song    刘克庄  曼卿仙不死|隐隐素骡嘶|走入芙蓉里|花心路忽迷    记小圃花果二十首 其十三 芙蓉   花心 仙 隐隐 芙蓉   \n",
       "93    Yuan    李孝光  采莲复采莲|莲生隔江水|不愁无舟楫|但愁波浪起     采莲曲二首为 鲁子翚作 其一  江水 波浪 舟楫 采莲   \n",
       "\n",
       "   cate  category_id  \n",
       "0    豪放            0  \n",
       "32   豪放            0  \n",
       "48   山水            1  \n",
       "65   豪放            0  \n",
       "93   豪放            0  "
      ]
     },
     "execution_count": 21,
     "metadata": {},
     "output_type": "execute_result"
    }
   ],
   "source": [
    "category_to_id = dict(category_id_df.values)\n",
    "id_to_category = dict(category_id_df[['category_id', 'cate']].values)\n",
    "# New dataframe\n",
    "df_withclass.head()"
   ]
  },
  {
   "cell_type": "code",
   "execution_count": 22,
   "metadata": {},
   "outputs": [
    {
     "data": {
      "image/png": "[encoded data removed]",
      "text/plain": [
       "<Figure size 800x600 with 1 Axes>"
      ]
     },
     "metadata": {},
     "output_type": "display_data"
    }
   ],
   "source": [
    "fig = plt.figure(figsize=(8,6))\n",
    "colors = ['grey','black','darkblue']\n",
    "df_withclass.groupby('category_id').content.count().sort_values().plot.barh(\n",
    "    ylim=0, color=colors, title= 'NUMBER OF Poems IN EACH class CATEGORYn')\n",
    "plt.xlabel('Number of ocurrences', fontsize = 10);"
   ]
  },
  {
   "attachments": {},
   "cell_type": "markdown",
   "metadata": {},
   "source": [
    "### - tokenize poem data"
   ]
  },
  {
   "cell_type": "code",
   "execution_count": 23,
   "metadata": {},
   "outputs": [],
   "source": [
    "from LAC import LAC"
   ]
  },
  {
   "cell_type": "code",
   "execution_count": 20,
   "metadata": {},
   "outputs": [],
   "source": [
    "from sklearn.feature_extraction.text import CountVectorizer"
   ]
  },
  {
   "cell_type": "code",
   "execution_count": 24,
   "metadata": {},
   "outputs": [
    {
     "name": "stderr",
     "output_type": "stream",
     "text": [
      "W0409 19:53:04.188855 1892932 analysis_predictor.cc:1736] Deprecated. Please use CreatePredictor instead.\n"
     ]
    },
    {
     "name": "stdout",
     "output_type": "stream",
     "text": [
      "['崖 悬百尺古 | 面 削 一屏 开 | 晴日 流丹草 | 春风 长 绿苔', '夜月乌衣巷|秋风燕子矶 | 山川 仍 似昔 | 只是 旧人非', '见 雁忆故乡|闻蛩思织妇|笑语是谁家|声逐微风度', '曼卿仙 不死 | 隐隐 素骡嘶 | 走入 芙蓉 里 | 花心 路 忽 迷', '采莲复采莲|莲生隔江水 | 不愁 无 舟楫 | 但 愁 波浪 起']\n"
     ]
    }
   ],
   "source": [
    "lac = LAC(mode='lac')\n",
    "corpus1 = []\n",
    " \n",
    "for text in df_withclass['content'] :\n",
    "     line = text.strip()\n",
    "     lac_result = lac.run(line)\n",
    "     corpus1.append(' '.join(lac_result[0]))\n",
    "print(corpus1[:5])"
   ]
  },
  {
   "cell_type": "code",
   "execution_count": 25,
   "metadata": {},
   "outputs": [
    {
     "name": "stderr",
     "output_type": "stream",
     "text": [
      "/tmp/ipykernel_1892932/3743283712.py:1: SettingWithCopyWarning: \n",
      "A value is trying to be set on a copy of a slice from a DataFrame.\n",
      "Try using .loc[row_indexer,col_indexer] = value instead\n",
      "\n",
      "See the caveats in the documentation: https://pandas.pydata.org/pandas-docs/stable/user_guide/indexing.html#returning-a-view-versus-a-copy\n",
      "  df_withclass['new_content']=['']*df_withclass.shape[0]\n"
     ]
    }
   ],
   "source": [
    "df_withclass['new_content']=['']*df_withclass.shape[0]"
   ]
  },
  {
   "cell_type": "code",
   "execution_count": 26,
   "metadata": {},
   "outputs": [
    {
     "name": "stderr",
     "output_type": "stream",
     "text": [
      "/tmp/ipykernel_1892932/1993609744.py:1: SettingWithCopyWarning: \n",
      "A value is trying to be set on a copy of a slice from a DataFrame.\n",
      "Try using .loc[row_indexer,col_indexer] = value instead\n",
      "\n",
      "See the caveats in the documentation: https://pandas.pydata.org/pandas-docs/stable/user_guide/indexing.html#returning-a-view-versus-a-copy\n",
      "  df_withclass['new_content']= corpus1\n"
     ]
    }
   ],
   "source": [
    "df_withclass['new_content']= corpus1"
   ]
  },
  {
   "cell_type": "code",
   "execution_count": 27,
   "metadata": {},
   "outputs": [
    {
     "data": {
      "text/html": [
       "<div>\n",
       "<style scoped>\n",
       "    .dataframe tbody tr th:only-of-type {\n",
       "        vertical-align: middle;\n",
       "    }\n",
       "\n",
       "    .dataframe tbody tr th {\n",
       "        vertical-align: top;\n",
       "    }\n",
       "\n",
       "    .dataframe thead th {\n",
       "        text-align: right;\n",
       "    }\n",
       "</style>\n",
       "<table border=\"1\" class=\"dataframe\">\n",
       "  <thead>\n",
       "    <tr style=\"text-align: right;\">\n",
       "      <th></th>\n",
       "      <th>dynasty</th>\n",
       "      <th>author</th>\n",
       "      <th>content</th>\n",
       "      <th>title</th>\n",
       "      <th>keywords</th>\n",
       "      <th>cate</th>\n",
       "      <th>category_id</th>\n",
       "      <th>new_content</th>\n",
       "    </tr>\n",
       "  </thead>\n",
       "  <tbody>\n",
       "    <tr>\n",
       "      <th>0</th>\n",
       "      <td>Ming</td>\n",
       "      <td>翁万达</td>\n",
       "      <td>崖悬百尺古|面削一屏开|晴日流丹草|春风长绿苔</td>\n",
       "      <td>锦屏岩</td>\n",
       "      <td>屏开 晴日 春风 绿苔</td>\n",
       "      <td>豪放</td>\n",
       "      <td>0</td>\n",
       "      <td>崖 悬百尺古 | 面 削 一屏 开 | 晴日 流丹草 | 春风 长 绿苔</td>\n",
       "    </tr>\n",
       "    <tr>\n",
       "      <th>32</th>\n",
       "      <td>Ming</td>\n",
       "      <td>徐熥</td>\n",
       "      <td>夜月乌衣巷|秋风燕子矶|山川仍似昔|只是旧人非</td>\n",
       "      <td>芋江驿楼口占送王元直重游金陵 其二</td>\n",
       "      <td>秋风 山川 夜月 燕子</td>\n",
       "      <td>豪放</td>\n",
       "      <td>0</td>\n",
       "      <td>夜月乌衣巷|秋风燕子矶 | 山川 仍 似昔 | 只是 旧人非</td>\n",
       "    </tr>\n",
       "    <tr>\n",
       "      <th>48</th>\n",
       "      <td>Ming</td>\n",
       "      <td>黄淮</td>\n",
       "      <td>见雁忆故乡|闻蛩思织妇|笑语是谁家|声逐微风度</td>\n",
       "      <td>四时词 其三</td>\n",
       "      <td>风度 笑语 谁家 微</td>\n",
       "      <td>山水</td>\n",
       "      <td>1</td>\n",
       "      <td>见 雁忆故乡|闻蛩思织妇|笑语是谁家|声逐微风度</td>\n",
       "    </tr>\n",
       "    <tr>\n",
       "      <th>65</th>\n",
       "      <td>Song</td>\n",
       "      <td>刘克庄</td>\n",
       "      <td>曼卿仙不死|隐隐素骡嘶|走入芙蓉里|花心路忽迷</td>\n",
       "      <td>记小圃花果二十首 其十三 芙蓉</td>\n",
       "      <td>花心 仙 隐隐 芙蓉</td>\n",
       "      <td>豪放</td>\n",
       "      <td>0</td>\n",
       "      <td>曼卿仙 不死 | 隐隐 素骡嘶 | 走入 芙蓉 里 | 花心 路 忽 迷</td>\n",
       "    </tr>\n",
       "    <tr>\n",
       "      <th>93</th>\n",
       "      <td>Yuan</td>\n",
       "      <td>李孝光</td>\n",
       "      <td>采莲复采莲|莲生隔江水|不愁无舟楫|但愁波浪起</td>\n",
       "      <td>采莲曲二首为 鲁子翚作 其一</td>\n",
       "      <td>江水 波浪 舟楫 采莲</td>\n",
       "      <td>豪放</td>\n",
       "      <td>0</td>\n",
       "      <td>采莲复采莲|莲生隔江水 | 不愁 无 舟楫 | 但 愁 波浪 起</td>\n",
       "    </tr>\n",
       "    <tr>\n",
       "      <th>...</th>\n",
       "      <td>...</td>\n",
       "      <td>...</td>\n",
       "      <td>...</td>\n",
       "      <td>...</td>\n",
       "      <td>...</td>\n",
       "      <td>...</td>\n",
       "      <td>...</td>\n",
       "      <td>...</td>\n",
       "    </tr>\n",
       "    <tr>\n",
       "      <th>7918</th>\n",
       "      <td>Song</td>\n",
       "      <td>杨万里</td>\n",
       "      <td>掠削娇云放嫩晴|三朝五日即清明|垂杨幸自风流杀|莫著啼乌只著莺</td>\n",
       "      <td>春望二首 其二</td>\n",
       "      <td>垂杨 放 风流 清明</td>\n",
       "      <td>山水</td>\n",
       "      <td>1</td>\n",
       "      <td>掠 削 娇云 放 嫩晴 | 三朝五日 即清明 | 垂 杨幸 自风流杀 | 莫著啼乌 只 著 莺</td>\n",
       "    </tr>\n",
       "    <tr>\n",
       "      <th>7923</th>\n",
       "      <td>Song</td>\n",
       "      <td>李纲</td>\n",
       "      <td>烟雨濛濛半暑时|轻红旋摘自提携|不知谁是善知识|断送归家食荔枝</td>\n",
       "      <td>初食荔枝四绝句 其一</td>\n",
       "      <td>提携 烟雨 荔枝 断送</td>\n",
       "      <td>豪放</td>\n",
       "      <td>0</td>\n",
       "      <td>烟雨 濛濛 半暑 时 | 轻红旋 摘自 提携 | 不知 谁 是 善 知识 | 断送 归家 食 荔枝</td>\n",
       "    </tr>\n",
       "    <tr>\n",
       "      <th>7945</th>\n",
       "      <td>Song</td>\n",
       "      <td>范成大</td>\n",
       "      <td>村北村南打稻声|竹舆随处款柴荆|斜阳倒景天如醉|明日山行更好晴</td>\n",
       "      <td>上沙舍舟</td>\n",
       "      <td>柴荆 明日 山行 斜阳</td>\n",
       "      <td>山水</td>\n",
       "      <td>1</td>\n",
       "      <td>村 北村 南 打稻 声 | 竹舆 随处 款 柴荆 | 斜阳 倒 景天如醉 | 明日 山行 更好 晴</td>\n",
       "    </tr>\n",
       "    <tr>\n",
       "      <th>7946</th>\n",
       "      <td>Song</td>\n",
       "      <td>刘克庄</td>\n",
       "      <td>逐客挑包水榭中|忽闻乾鹊噪东风|若非闽峤安书至|即是襄州吉语通</td>\n",
       "      <td>出宿环碧</td>\n",
       "      <td>水榭 安 东风 逐客</td>\n",
       "      <td>豪放</td>\n",
       "      <td>0</td>\n",
       "      <td>逐 客挑包 水榭 中 | 忽 闻 乾鹊 噪 东风 | 若 非闽峤安书 至 | 即 是 襄州吉语通</td>\n",
       "    </tr>\n",
       "    <tr>\n",
       "      <th>7959</th>\n",
       "      <td>Song</td>\n",
       "      <td>杨万里</td>\n",
       "      <td>数片荷花漾水盆|忽然相聚忽然分|从教压捺沉盆底|依旧浮来无水痕</td>\n",
       "      <td>山居午睡起弄花三首 其二</td>\n",
       "      <td>荷花 沉 分 水痕</td>\n",
       "      <td>山水</td>\n",
       "      <td>1</td>\n",
       "      <td>数片 荷花 漾 水盆 | 忽然 相聚 忽然 分 | 从 教压 捺沉 盆底 | 依旧 浮来 无水痕</td>\n",
       "    </tr>\n",
       "  </tbody>\n",
       "</table>\n",
       "<p>9804 rows × 8 columns</p>\n",
       "</div>"
      ],
      "text/plain": [
       "     dynasty author                          content              title  \\\n",
       "0       Ming    翁万达          崖悬百尺古|面削一屏开|晴日流丹草|春风长绿苔                锦屏岩   \n",
       "32      Ming     徐熥          夜月乌衣巷|秋风燕子矶|山川仍似昔|只是旧人非  芋江驿楼口占送王元直重游金陵 其二   \n",
       "48      Ming     黄淮          见雁忆故乡|闻蛩思织妇|笑语是谁家|声逐微风度             四时词 其三   \n",
       "65      Song    刘克庄          曼卿仙不死|隐隐素骡嘶|走入芙蓉里|花心路忽迷    记小圃花果二十首 其十三 芙蓉   \n",
       "93      Yuan    李孝光          采莲复采莲|莲生隔江水|不愁无舟楫|但愁波浪起     采莲曲二首为 鲁子翚作 其一   \n",
       "...      ...    ...                              ...                ...   \n",
       "7918    Song    杨万里  掠削娇云放嫩晴|三朝五日即清明|垂杨幸自风流杀|莫著啼乌只著莺            春望二首 其二   \n",
       "7923    Song     李纲  烟雨濛濛半暑时|轻红旋摘自提携|不知谁是善知识|断送归家食荔枝         初食荔枝四绝句 其一   \n",
       "7945    Song    范成大  村北村南打稻声|竹舆随处款柴荆|斜阳倒景天如醉|明日山行更好晴               上沙舍舟   \n",
       "7946    Song    刘克庄  逐客挑包水榭中|忽闻乾鹊噪东风|若非闽峤安书至|即是襄州吉语通               出宿环碧   \n",
       "7959    Song    杨万里  数片荷花漾水盆|忽然相聚忽然分|从教压捺沉盆底|依旧浮来无水痕       山居午睡起弄花三首 其二   \n",
       "\n",
       "         keywords cate  category_id  \\\n",
       "0     屏开 晴日 春风 绿苔   豪放            0   \n",
       "32    秋风 山川 夜月 燕子   豪放            0   \n",
       "48     风度 笑语 谁家 微   山水            1   \n",
       "65     花心 仙 隐隐 芙蓉   豪放            0   \n",
       "93    江水 波浪 舟楫 采莲   豪放            0   \n",
       "...           ...  ...          ...   \n",
       "7918   垂杨 放 风流 清明   山水            1   \n",
       "7923  提携 烟雨 荔枝 断送   豪放            0   \n",
       "7945  柴荆 明日 山行 斜阳   山水            1   \n",
       "7946   水榭 安 东风 逐客   豪放            0   \n",
       "7959    荷花 沉 分 水痕   山水            1   \n",
       "\n",
       "                                            new_content  \n",
       "0                  崖 悬百尺古 | 面 削 一屏 开 | 晴日 流丹草 | 春风 长 绿苔  \n",
       "32                       夜月乌衣巷|秋风燕子矶 | 山川 仍 似昔 | 只是 旧人非  \n",
       "48                             见 雁忆故乡|闻蛩思织妇|笑语是谁家|声逐微风度  \n",
       "65                 曼卿仙 不死 | 隐隐 素骡嘶 | 走入 芙蓉 里 | 花心 路 忽 迷  \n",
       "93                     采莲复采莲|莲生隔江水 | 不愁 无 舟楫 | 但 愁 波浪 起  \n",
       "...                                                 ...  \n",
       "7918    掠 削 娇云 放 嫩晴 | 三朝五日 即清明 | 垂 杨幸 自风流杀 | 莫著啼乌 只 著 莺  \n",
       "7923  烟雨 濛濛 半暑 时 | 轻红旋 摘自 提携 | 不知 谁 是 善 知识 | 断送 归家 食 荔枝  \n",
       "7945  村 北村 南 打稻 声 | 竹舆 随处 款 柴荆 | 斜阳 倒 景天如醉 | 明日 山行 更好 晴  \n",
       "7946   逐 客挑包 水榭 中 | 忽 闻 乾鹊 噪 东风 | 若 非闽峤安书 至 | 即 是 襄州吉语通  \n",
       "7959   数片 荷花 漾 水盆 | 忽然 相聚 忽然 分 | 从 教压 捺沉 盆底 | 依旧 浮来 无水痕  \n",
       "\n",
       "[9804 rows x 8 columns]"
      ]
     },
     "execution_count": 27,
     "metadata": {},
     "output_type": "execute_result"
    }
   ],
   "source": [
    "df_withclass"
   ]
  },
  {
   "attachments": {},
   "cell_type": "markdown",
   "metadata": {},
   "source": [
    "### - find features for each poem"
   ]
  },
  {
   "cell_type": "code",
   "execution_count": 29,
   "metadata": {},
   "outputs": [
    {
     "name": "stdout",
     "output_type": "stream",
     "text": [
      "Each of the 9804 poem is represented by 18327 features (TF-IDF score of unigrams and bigrams)\n"
     ]
    }
   ],
   "source": [
    "stopwords = ['|']\n",
    "tfidf = TfidfVectorizer(sublinear_tf=True, min_df=2,\n",
    "                        ngram_range=(1, 2), \n",
    "                        stop_words=stopwords)\n",
    "\n",
    "features = tfidf.fit_transform(df_withclass.new_content).toarray()\n",
    "labels = df_withclass.category_id\n",
    "print(\"Each of the %d poem is represented by %d features (TF-IDF score of unigrams and bigrams)\" %(features.shape))"
   ]
  },
  {
   "cell_type": "code",
   "execution_count": 35,
   "metadata": {},
   "outputs": [
    {
     "data": {
      "text/plain": [
       "[('婉约', 2), ('山水', 1), ('豪放', 0)]"
      ]
     },
     "execution_count": 35,
     "metadata": {},
     "output_type": "execute_result"
    }
   ],
   "source": [
    "sorted(category_to_id.items())"
   ]
  },
  {
   "cell_type": "code",
   "execution_count": 30,
   "metadata": {},
   "outputs": [
    {
     "name": "stderr",
     "output_type": "stream",
     "text": [
      "/media/ntu/volume1/home/s122md303_03/.local/lib/python3.8/site-packages/sklearn/utils/deprecation.py:87: FutureWarning: Function get_feature_names is deprecated; get_feature_names is deprecated in 1.0 and will be removed in 1.2. Please use get_feature_names_out instead.\n",
      "  warnings.warn(msg, category=FutureWarning)\n"
     ]
    },
    {
     "name": "stdout",
     "output_type": "stream",
     "text": [
      "n==> 婉约:\n",
      "  * Most Correlated Unigrams are: 圣君\n",
      "  * Most Correlated Bigrams are: 殷勤 故人\n"
     ]
    },
    {
     "name": "stderr",
     "output_type": "stream",
     "text": [
      "/media/ntu/volume1/home/s122md303_03/.local/lib/python3.8/site-packages/sklearn/utils/deprecation.py:87: FutureWarning: Function get_feature_names is deprecated; get_feature_names is deprecated in 1.0 and will be removed in 1.2. Please use get_feature_names_out instead.\n",
      "  warnings.warn(msg, category=FutureWarning)\n"
     ]
    },
    {
     "name": "stdout",
     "output_type": "stream",
     "text": [
      "n==> 山水:\n",
      "  * Most Correlated Unigrams are: 忽然\n",
      "  * Most Correlated Bigrams are: 不管 人间\n",
      "n==> 豪放:\n",
      "  * Most Correlated Unigrams are: 忽然\n",
      "  * Most Correlated Bigrams are: 不管 人间\n"
     ]
    },
    {
     "name": "stderr",
     "output_type": "stream",
     "text": [
      "/media/ntu/volume1/home/s122md303_03/.local/lib/python3.8/site-packages/sklearn/utils/deprecation.py:87: FutureWarning: Function get_feature_names is deprecated; get_feature_names is deprecated in 1.0 and will be removed in 1.2. Please use get_feature_names_out instead.\n",
      "  warnings.warn(msg, category=FutureWarning)\n"
     ]
    }
   ],
   "source": [
    "# Finding the most correlated terms with each of the product categories\n",
    "N = 1\n",
    "for cate, category_id in sorted(category_to_id.items()):\n",
    "  features_chi2 = chi2(features, labels == category_id)\n",
    "  indices = np.argsort(features_chi2[0])\n",
    "  feature_names = np.array(tfidf.get_feature_names())[indices]\n",
    "  unigrams = [v for v in feature_names if len(v.split(' ')) == 1]\n",
    "  bigrams = [v for v in feature_names if len(v.split(' ')) == 2]\n",
    "  print(\"n==> %s:\" %(cate))\n",
    "  print(\"  * Most Correlated Unigrams are: %s\" %(', '.join(unigrams[-N:])))\n",
    "  print(\"  * Most Correlated Bigrams are: %s\" %(', '.join(bigrams[-N:])))"
   ]
  },
  {
   "cell_type": "code",
   "execution_count": 31,
   "metadata": {},
   "outputs": [],
   "source": [
    "X = df_withclass['new_content'] # Collection of documents\n",
    "y = df_withclass['cate'] # Target or the labels we want to predict (i.e., the 13 different complaints of products)\n",
    "X_train, X_test, y_train, y_test = train_test_split(X, y, \n",
    "                                                    test_size=0.25,\n",
    "                                                    random_state = 0)\n"
   ]
  },
  {
   "attachments": {},
   "cell_type": "markdown",
   "metadata": {},
   "source": [
    "### - initialize models for classification"
   ]
  },
  {
   "cell_type": "code",
   "execution_count": 36,
   "metadata": {},
   "outputs": [],
   "source": [
    "models = [\n",
    "    RandomForestClassifier(n_estimators=100, max_depth=5,criterion=\"entropy\", random_state=0),\n",
    "    LinearSVC(),\n",
    "    MultinomialNB(),\n",
    "    LogisticRegression(random_state=0),\n",
    "]\n",
    "CV = 5\n",
    "cv_df = pd.DataFrame(index=range(CV * len(models)))"
   ]
  },
  {
   "cell_type": "code",
   "execution_count": 37,
   "metadata": {},
   "outputs": [
    {
     "name": "stderr",
     "output_type": "stream",
     "text": [
      "/media/ntu/volume1/home/s122md303_03/.local/lib/python3.8/site-packages/scipy/optimize/lbfgsb.py:339: DeprecationWarning: tostring() is deprecated. Use tobytes() instead.\n",
      "  task_str = task.tostring()\n",
      "/media/ntu/volume1/home/s122md303_03/.local/lib/python3.8/site-packages/scipy/optimize/lbfgsb.py:360: DeprecationWarning: tostring() is deprecated. Use tobytes() instead.\n",
      "  task_str = task.tostring().strip(b'\\x00').strip()\n",
      "/media/ntu/volume1/home/s122md303_03/.local/lib/python3.8/site-packages/scipy/optimize/lbfgsb.py:339: DeprecationWarning: tostring() is deprecated. Use tobytes() instead.\n",
      "  task_str = task.tostring()\n",
      "/media/ntu/volume1/home/s122md303_03/.local/lib/python3.8/site-packages/scipy/optimize/lbfgsb.py:360: DeprecationWarning: tostring() is deprecated. Use tobytes() instead.\n",
      "  task_str = task.tostring().strip(b'\\x00').strip()\n",
      "/media/ntu/volume1/home/s122md303_03/.local/lib/python3.8/site-packages/scipy/optimize/lbfgsb.py:339: DeprecationWarning: tostring() is deprecated. Use tobytes() instead.\n",
      "  task_str = task.tostring()\n",
      "/media/ntu/volume1/home/s122md303_03/.local/lib/python3.8/site-packages/scipy/optimize/lbfgsb.py:360: DeprecationWarning: tostring() is deprecated. Use tobytes() instead.\n",
      "  task_str = task.tostring().strip(b'\\x00').strip()\n",
      "/media/ntu/volume1/home/s122md303_03/.local/lib/python3.8/site-packages/scipy/optimize/lbfgsb.py:339: DeprecationWarning: tostring() is deprecated. Use tobytes() instead.\n",
      "  task_str = task.tostring()\n",
      "/media/ntu/volume1/home/s122md303_03/.local/lib/python3.8/site-packages/scipy/optimize/lbfgsb.py:360: DeprecationWarning: tostring() is deprecated. Use tobytes() instead.\n",
      "  task_str = task.tostring().strip(b'\\x00').strip()\n",
      "/media/ntu/volume1/home/s122md303_03/.local/lib/python3.8/site-packages/sklearn/linear_model/_logistic.py:444: ConvergenceWarning: lbfgs failed to converge (status=1):\n",
      "STOP: TOTAL NO. of ITERATIONS REACHED LIMIT.\n",
      "\n",
      "Increase the number of iterations (max_iter) or scale the data as shown in:\n",
      "    https://scikit-learn.org/stable/modules/preprocessing.html\n",
      "Please also refer to the documentation for alternative solver options:\n",
      "    https://scikit-learn.org/stable/modules/linear_model.html#logistic-regression\n",
      "  n_iter_i = _check_optimize_result(\n",
      "/media/ntu/volume1/home/s122md303_03/.local/lib/python3.8/site-packages/scipy/optimize/lbfgsb.py:339: DeprecationWarning: tostring() is deprecated. Use tobytes() instead.\n",
      "  task_str = task.tostring()\n",
      "/media/ntu/volume1/home/s122md303_03/.local/lib/python3.8/site-packages/scipy/optimize/lbfgsb.py:360: DeprecationWarning: tostring() is deprecated. Use tobytes() instead.\n",
      "  task_str = task.tostring().strip(b'\\x00').strip()\n"
     ]
    }
   ],
   "source": [
    "entries = []\n",
    "for model in models:\n",
    "  model_name = model.__class__.__name__\n",
    "  accuracies = cross_val_score(model, features, labels, scoring='accuracy', cv=CV)\n",
    "  for fold_idx, accuracy in enumerate(accuracies):\n",
    "    entries.append((model_name, fold_idx, accuracy))\n",
    "cv_df = pd.DataFrame(entries, columns=['model_name', 'fold_idx', 'accuracy'])"
   ]
  },
  {
   "cell_type": "code",
   "execution_count": 39,
   "metadata": {},
   "outputs": [],
   "source": [
    "mean_accuracy = cv_df.groupby('model_name').accuracy.mean()\n",
    "std_accuracy = cv_df.groupby('model_name').accuracy.std()"
   ]
  },
  {
   "cell_type": "code",
   "execution_count": 43,
   "metadata": {},
   "outputs": [
    {
     "data": {
      "text/html": [
       "<div>\n",
       "<style scoped>\n",
       "    .dataframe tbody tr th:only-of-type {\n",
       "        vertical-align: middle;\n",
       "    }\n",
       "\n",
       "    .dataframe tbody tr th {\n",
       "        vertical-align: top;\n",
       "    }\n",
       "\n",
       "    .dataframe thead th {\n",
       "        text-align: right;\n",
       "    }\n",
       "</style>\n",
       "<table border=\"1\" class=\"dataframe\">\n",
       "  <thead>\n",
       "    <tr style=\"text-align: right;\">\n",
       "      <th></th>\n",
       "      <th>Mean Accuracy</th>\n",
       "      <th>Standard deviation</th>\n",
       "    </tr>\n",
       "    <tr>\n",
       "      <th>model_name</th>\n",
       "      <th></th>\n",
       "      <th></th>\n",
       "    </tr>\n",
       "  </thead>\n",
       "  <tbody>\n",
       "    <tr>\n",
       "      <th>LinearSVC</th>\n",
       "      <td>0.81267</td>\n",
       "      <td>0.041415</td>\n",
       "    </tr>\n",
       "    <tr>\n",
       "      <th>LogisticRegression</th>\n",
       "      <td>0.76135</td>\n",
       "      <td>0.022902</td>\n",
       "    </tr>\n",
       "    <tr>\n",
       "      <th>MultinomialNB</th>\n",
       "      <td>0.78973</td>\n",
       "      <td>0.026898</td>\n",
       "    </tr>\n",
       "    <tr>\n",
       "      <th>RandomForestClassifier</th>\n",
       "      <td>0.75208</td>\n",
       "      <td>0.000087</td>\n",
       "    </tr>\n",
       "  </tbody>\n",
       "</table>\n",
       "</div>"
      ],
      "text/plain": [
       "                        Mean Accuracy  Standard deviation\n",
       "model_name                                               \n",
       "LinearSVC                     0.81267            0.041415\n",
       "LogisticRegression            0.76135            0.022902\n",
       "MultinomialNB                 0.78973            0.026898\n",
       "RandomForestClassifier        0.75208            0.000087"
      ]
     },
     "execution_count": 43,
     "metadata": {},
     "output_type": "execute_result"
    }
   ],
   "source": [
    "acc = pd.concat([mean_accuracy, std_accuracy], axis= 1, \n",
    "          ignore_index=True)\n",
    "acc.columns = ['Mean Accuracy', 'Standard deviation']\n",
    "acc"
   ]
  },
  {
   "cell_type": "code",
   "execution_count": 44,
   "metadata": {},
   "outputs": [],
   "source": [
    "X_train, X_test, y_train, y_test,indices_train,indices_test = train_test_split(features, \n",
    "                                                               labels, \n",
    "                                                               df_withclass.index, test_size=0.05, \n",
    "                                                               random_state=1)\n",
    "model = LinearSVC()\n",
    "model.fit(X_train, y_train)\n",
    "y_pred = model.predict(X_test)"
   ]
  },
  {
   "cell_type": "code",
   "execution_count": 48,
   "metadata": {},
   "outputs": [],
   "source": [
    "X_train, X_test, y_train, y_test = train_test_split(X, y, \n",
    "                                                    test_size=0.25,\n",
    "                                                    random_state = 0)"
   ]
  },
  {
   "cell_type": "code",
   "execution_count": 49,
   "metadata": {},
   "outputs": [],
   "source": [
    "tfidf = TfidfVectorizer(sublinear_tf=True, min_df=5,\n",
    "                        ngram_range=(1, 2), \n",
    "                        #stop_words='english'\n",
    "                        )"
   ]
  },
  {
   "attachments": {},
   "cell_type": "markdown",
   "metadata": {},
   "source": [
    "### - select linearSVC as it has highest accuracy"
   ]
  },
  {
   "cell_type": "code",
   "execution_count": 50,
   "metadata": {},
   "outputs": [],
   "source": [
    "fitted_vectorizer = tfidf.fit(X_train)\n",
    "tfidf_vectorizer_vectors = fitted_vectorizer.transform(X_train)\n",
    "model = LinearSVC().fit(tfidf_vectorizer_vectors, y_train)"
   ]
  },
  {
   "attachments": {},
   "cell_type": "markdown",
   "metadata": {},
   "source": [
    "### - try 1 poem data"
   ]
  },
  {
   "cell_type": "code",
   "execution_count": 51,
   "metadata": {},
   "outputs": [
    {
     "name": "stdout",
     "output_type": "stream",
     "text": [
      "['豪放']\n"
     ]
    }
   ],
   "source": [
    "poem = \"\"\"枫叶丹红百万姿 逢秋自有几番痴 桂香黄菊难留住 待到来年再绿时\"\"\"\n",
    "print(model.predict(fitted_vectorizer.transform([poem])))"
   ]
  },
  {
   "cell_type": "code",
   "execution_count": 52,
   "metadata": {},
   "outputs": [],
   "source": [
    "df_noclass1 = df_noclass.copy()"
   ]
  },
  {
   "attachments": {},
   "cell_type": "markdown",
   "metadata": {},
   "source": [
    "### - use trained model to predict on data without label"
   ]
  },
  {
   "cell_type": "code",
   "execution_count": 53,
   "metadata": {},
   "outputs": [],
   "source": [
    "df_noclass1['new_content']=['']*df_noclass1.shape[0]\n",
    "df_noclass1['prediction']=['']*df_noclass1.shape[0]\n",
    "for i,row in df_noclass1.iterrows():\n",
    "    line = row['content'].strip()\n",
    "    lac_result = lac.run(line)\n",
    "    df_noclass1.loc[i,'new_content']= \" \".join(lac_result[0])\n",
    "    df_noclass1.loc[i,'prediction']= model.predict(fitted_vectorizer.transform([row['new_content']]))\n",
    "    "
   ]
  },
  {
   "cell_type": "code",
   "execution_count": 54,
   "metadata": {},
   "outputs": [
    {
     "name": "stdout",
     "output_type": "stream",
     "text": [
      "135833\n"
     ]
    }
   ],
   "source": [
    "print(len(df_noclass1))"
   ]
  },
  {
   "cell_type": "code",
   "execution_count": 45,
   "metadata": {},
   "outputs": [
    {
     "data": {
      "text/html": [
       "<div>\n",
       "<style scoped>\n",
       "    .dataframe tbody tr th:only-of-type {\n",
       "        vertical-align: middle;\n",
       "    }\n",
       "\n",
       "    .dataframe tbody tr th {\n",
       "        vertical-align: top;\n",
       "    }\n",
       "\n",
       "    .dataframe thead th {\n",
       "        text-align: right;\n",
       "    }\n",
       "</style>\n",
       "<table border=\"1\" class=\"dataframe\">\n",
       "  <thead>\n",
       "    <tr style=\"text-align: right;\">\n",
       "      <th></th>\n",
       "      <th>dynasty</th>\n",
       "      <th>author</th>\n",
       "      <th>content</th>\n",
       "      <th>title</th>\n",
       "      <th>keywords</th>\n",
       "      <th>cate</th>\n",
       "      <th>new_content</th>\n",
       "      <th>prediction</th>\n",
       "    </tr>\n",
       "  </thead>\n",
       "  <tbody>\n",
       "    <tr>\n",
       "      <th>1</th>\n",
       "      <td>Ming</td>\n",
       "      <td>童冀</td>\n",
       "      <td>每忆宋夫子|终年坐北轩|著书良自苦|得意好忘言</td>\n",
       "      <td>次胡仲申先生斋居述怀韵十首兼简宋景濂先生 其八</td>\n",
       "      <td>著书 终年 好 忘言</td>\n",
       "      <td></td>\n",
       "      <td>清净 无 他 好 | 歌风 舞舜琴 | 阜财 并 解愠 | 总是 爱民 心</td>\n",
       "      <td>山水</td>\n",
       "    </tr>\n",
       "    <tr>\n",
       "      <th>2</th>\n",
       "      <td>Ming</td>\n",
       "      <td>管讷</td>\n",
       "      <td>劝酒重持杯|杯深喜不辞|愿将今日意|同保百年期</td>\n",
       "      <td>初度日复呈兄勉翁三首 其二</td>\n",
       "      <td>劝酒 杯深 持杯 愿将</td>\n",
       "      <td></td>\n",
       "      <td>雨过山色增 | 有如濯青泚|仙心足比洁|俗尘 为 我 洗</td>\n",
       "      <td>豪放</td>\n",
       "    </tr>\n",
       "    <tr>\n",
       "      <th>3</th>\n",
       "      <td>Song</td>\n",
       "      <td>汪应辰</td>\n",
       "      <td>仁心均动植|风化正邦家|福庆方骈集|灵符尚辟邪</td>\n",
       "      <td>太上皇后合端午帖子词 其二</td>\n",
       "      <td>均 风化 灵符 邦家</td>\n",
       "      <td></td>\n",
       "      <td>满耳环 佩声 | 云根 线 寒玉 | 雨 过勿 雷吼 | 老龙 鼾 正 熟</td>\n",
       "      <td>豪放</td>\n",
       "    </tr>\n",
       "    <tr>\n",
       "      <th>4</th>\n",
       "      <td>Song</td>\n",
       "      <td>蒲寿宬</td>\n",
       "      <td>骤来惊辟易|久视益虚无|咫尺星堪摘|波摇又走珠</td>\n",
       "      <td>心泉二首 其二</td>\n",
       "      <td>波摇 星 辟易 咫尺</td>\n",
       "      <td></td>\n",
       "      <td>左淬莫耶锋 | 右淬干将锷|宇宙两神龙|延津 当 昼跃</td>\n",
       "      <td>豪放</td>\n",
       "    </tr>\n",
       "    <tr>\n",
       "      <th>5</th>\n",
       "      <td>Song</td>\n",
       "      <td>袁说友</td>\n",
       "      <td>红妆夸睡足|粉额趁颜开|惟有江梅样|蛾眉淡拂来</td>\n",
       "      <td>用杨诚斋韵再题欧阳长老墨梅 其一</td>\n",
       "      <td>红妆 江梅 蛾眉 睡足</td>\n",
       "      <td></td>\n",
       "      <td>嵯峨 插天峰 | 偃蹇据地松 | 峰 那 不 出雨 | 松 已 欲 成龙</td>\n",
       "      <td>豪放</td>\n",
       "    </tr>\n",
       "  </tbody>\n",
       "</table>\n",
       "</div>"
      ],
      "text/plain": [
       "  dynasty author                  content                    title  \\\n",
       "1    Ming     童冀  每忆宋夫子|终年坐北轩|著书良自苦|得意好忘言  次胡仲申先生斋居述怀韵十首兼简宋景濂先生 其八   \n",
       "2    Ming     管讷  劝酒重持杯|杯深喜不辞|愿将今日意|同保百年期            初度日复呈兄勉翁三首 其二   \n",
       "3    Song    汪应辰  仁心均动植|风化正邦家|福庆方骈集|灵符尚辟邪            太上皇后合端午帖子词 其二   \n",
       "4    Song    蒲寿宬  骤来惊辟易|久视益虚无|咫尺星堪摘|波摇又走珠                  心泉二首 其二   \n",
       "5    Song    袁说友  红妆夸睡足|粉额趁颜开|惟有江梅样|蛾眉淡拂来         用杨诚斋韵再题欧阳长老墨梅 其一   \n",
       "\n",
       "      keywords cate                            new_content prediction  \n",
       "1   著书 终年 好 忘言       清净 无 他 好 | 歌风 舞舜琴 | 阜财 并 解愠 | 总是 爱民 心         山水  \n",
       "2  劝酒 杯深 持杯 愿将                雨过山色增 | 有如濯青泚|仙心足比洁|俗尘 为 我 洗         豪放  \n",
       "3   均 风化 灵符 邦家       满耳环 佩声 | 云根 线 寒玉 | 雨 过勿 雷吼 | 老龙 鼾 正 熟         豪放  \n",
       "4   波摇 星 辟易 咫尺                 左淬莫耶锋 | 右淬干将锷|宇宙两神龙|延津 当 昼跃         豪放  \n",
       "5  红妆 江梅 蛾眉 睡足        嵯峨 插天峰 | 偃蹇据地松 | 峰 那 不 出雨 | 松 已 欲 成龙         豪放  "
      ]
     },
     "execution_count": 45,
     "metadata": {},
     "output_type": "execute_result"
    }
   ],
   "source": [
    "df_noclass1.head()"
   ]
  },
  {
   "cell_type": "code",
   "execution_count": 53,
   "metadata": {},
   "outputs": [],
   "source": [
    "hf_predicted = df_noclass1.loc[(df_noclass1['prediction'] == \"豪放\") | (df_noclass1['prediction'] == \"[豪放]\")][['dynasty', 'author', 'content','title','keywords']].copy()\n",
    "ss_predicted = df_noclass1.loc[(df_noclass1['prediction'] == \"山水\") | (df_noclass1['prediction'] == \"[山水]\")][['dynasty', 'author', 'content','title','keywords']].copy()\n",
    "wy_predicted = df_noclass1.loc[(df_noclass1['prediction'] == \"婉约\") | (df_noclass1['prediction'] == \"[婉约]\")][['dynasty', 'author', 'content','title','keywords']].copy()"
   ]
  },
  {
   "cell_type": "code",
   "execution_count": 57,
   "metadata": {},
   "outputs": [],
   "source": [
    "hf_labeled = df_withclass.loc[(df_withclass['cate'] == \"豪放\") ][['dynasty', 'author', 'content','title','keywords']].copy()\n",
    "ss_labeled = df_withclass.loc[(df_withclass['cate'] == \"山水\") ][['dynasty', 'author', 'content','title','keywords']].copy()\n",
    "wy_labeled = df_withclass.loc[(df_withclass['cate'] == \"婉约\") ][['dynasty', 'author', 'content','title','keywords']].copy()"
   ]
  },
  {
   "cell_type": "code",
   "execution_count": 58,
   "metadata": {},
   "outputs": [
    {
     "name": "stdout",
     "output_type": "stream",
     "text": [
      "96830\n",
      "20026\n",
      "2208\n"
     ]
    }
   ],
   "source": [
    "print(len(hf_predicted))\n",
    "print(len(ss_predicted))\n",
    "print(len(wy_predicted))"
   ]
  },
  {
   "cell_type": "code",
   "execution_count": 59,
   "metadata": {},
   "outputs": [
    {
     "name": "stdout",
     "output_type": "stream",
     "text": [
      "5299\n",
      "2724\n",
      "595\n"
     ]
    }
   ],
   "source": [
    "print(len(hf_labeled))\n",
    "print(len(ss_labeled))\n",
    "print(len(wy_labeled))"
   ]
  },
  {
   "cell_type": "code",
   "execution_count": 62,
   "metadata": {},
   "outputs": [],
   "source": [
    "hf = pd.concat([hf_labeled,hf_predicted])\n",
    "ss = pd.concat([ss_labeled,ss_predicted])\n",
    "wy = pd.concat([wy_labeled,wy_predicted])"
   ]
  },
  {
   "cell_type": "code",
   "execution_count": 63,
   "metadata": {},
   "outputs": [
    {
     "name": "stdout",
     "output_type": "stream",
     "text": [
      "102129\n",
      "22750\n",
      "2803\n"
     ]
    }
   ],
   "source": [
    "print(len(hf))\n",
    "print(len(ss))\n",
    "print(len(wy))"
   ]
  },
  {
   "cell_type": "code",
   "execution_count": 68,
   "metadata": {},
   "outputs": [],
   "source": [
    "hf_train = hf[:-2000]\n",
    "hf_test = hf[-2000:-1000]\n",
    "hf_valid = hf[-1000:]\n",
    "\n",
    "ss_train = ss[:-200]\n",
    "ss_test = ss[-200:-100]\n",
    "ss_valid = ss[-100:]\n",
    "\n",
    "wy_train = wy[:-100]\n",
    "wy_test = wy[-100:-50]\n",
    "wy_valid = wy[-50:]"
   ]
  },
  {
   "cell_type": "code",
   "execution_count": 69,
   "metadata": {},
   "outputs": [],
   "source": [
    "hf_train.to_json('/media/ntu/volume1/home/s122md303_03/Datasets/CCPC/hf_train.json',orient = 'records',force_ascii=False,lines = True)\n",
    "hf_valid.to_json('/media/ntu/volume1/home/s122md303_03/Datasets/CCPC/hf_valid.json',orient = 'records',force_ascii=False,lines = True)\n",
    "hf_test.to_json('/media/ntu/volume1/home/s122md303_03/Datasets/CCPC/hf_test.json',orient = 'records',force_ascii=False,lines = True)\n"
   ]
  },
  {
   "cell_type": "code",
   "execution_count": 70,
   "metadata": {},
   "outputs": [],
   "source": [
    "ss_train.to_json('/media/ntu/volume1/home/s122md303_03/Datasets/CCPC/ss_train.json',orient = 'records',force_ascii=False,lines = True)\n",
    "ss_valid.to_json('/media/ntu/volume1/home/s122md303_03/Datasets/CCPC/ss_valid.json',orient = 'records',force_ascii=False,lines = True)\n",
    "ss_test.to_json('/media/ntu/volume1/home/s122md303_03/Datasets/CCPC/ss_test.json',orient = 'records',force_ascii=False,lines = True)\n",
    "\n",
    "wy_train.to_json('/media/ntu/volume1/home/s122md303_03/Datasets/CCPC/wy_train.json',orient = 'records',force_ascii=False,lines = True)\n",
    "wy_valid.to_json('/media/ntu/volume1/home/s122md303_03/Datasets/CCPC/wy_valid.json',orient = 'records',force_ascii=False,lines = True)\n",
    "wy_test.to_json('/media/ntu/volume1/home/s122md303_03/Datasets/CCPC/wy_test.json',orient = 'records',force_ascii=False,lines = True)"
   ]
  },
  {
   "cell_type": "code",
   "execution_count": 71,
   "metadata": {},
   "outputs": [],
   "source": [
    "hf.to_csv('/media/ntu/volume1/home/s122md303_03/Datasets/CCPC/hf.csv')\n",
    "ss.to_csv('/media/ntu/volume1/home/s122md303_03/Datasets/CCPC/ss.csv')\n",
    "wy.to_csv('/media/ntu/volume1/home/s122md303_03/Datasets/CCPC/wy.csv')"
   ]
  },
  {
   "cell_type": "code",
   "execution_count": null,
   "metadata": {},
   "outputs": [],
   "source": []
  },
  {
   "cell_type": "code",
   "execution_count": null,
   "metadata": {},
   "outputs": [],
   "source": []
  },
  {
   "cell_type": "code",
   "execution_count": null,
   "metadata": {},
   "outputs": [],
   "source": []
  },
  {
   "cell_type": "code",
   "execution_count": null,
   "metadata": {},
   "outputs": [],
   "source": []
  },
  {
   "cell_type": "code",
   "execution_count": null,
   "metadata": {},
   "outputs": [],
   "source": []
  },
  {
   "cell_type": "code",
   "execution_count": null,
   "metadata": {},
   "outputs": [],
   "source": []
  },
  {
   "cell_type": "code",
   "execution_count": null,
   "metadata": {},
   "outputs": [],
   "source": []
  },
  {
   "cell_type": "code",
   "execution_count": null,
   "metadata": {},
   "outputs": [],
   "source": []
  },
  {
   "cell_type": "code",
   "execution_count": null,
   "metadata": {},
   "outputs": [],
   "source": []
  },
  {
   "cell_type": "code",
   "execution_count": null,
   "metadata": {},
   "outputs": [],
   "source": []
  },
  {
   "cell_type": "code",
   "execution_count": null,
   "metadata": {},
   "outputs": [],
   "source": []
  },
  {
   "cell_type": "code",
   "execution_count": null,
   "metadata": {},
   "outputs": [],
   "source": []
  },
  {
   "cell_type": "code",
   "execution_count": null,
   "metadata": {},
   "outputs": [],
   "source": []
  },
  {
   "cell_type": "code",
   "execution_count": null,
   "metadata": {},
   "outputs": [],
   "source": []
  }
 ],
 "metadata": {
  "kernelspec": {
   "display_name": "Python 3.8.10 64-bit",
   "language": "python",
   "name": "python3"
  },
  "language_info": {
   "codemirror_mode": {
    "name": "ipython",
    "version": 3
   },
   "file_extension": ".py",
   "mimetype": "text/x-python",
   "name": "python",
   "nbconvert_exporter": "python",
   "pygments_lexer": "ipython3",
   "version": "3.8.10"
  },
  "orig_nbformat": 4,
  "vscode": {
   "interpreter": {
    "hash": "31f2aee4e71d21fbe5cf8b01ff0e069b9275f58929596ceb00d14d90e3e16cd6"
   }
  }
 },
 "nbformat": 4,
 "nbformat_minor": 2
}
